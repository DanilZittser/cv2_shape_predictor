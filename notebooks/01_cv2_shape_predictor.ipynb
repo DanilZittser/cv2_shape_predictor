{
 "cells": [
  {
   "cell_type": "markdown",
   "id": "0b1827b0-09d2-4e11-8a99-da57dd19b389",
   "metadata": {},
   "source": [
    "### Информация\n",
    "- **Автор**: Зитцер Данил\n",
    "- **Дата создания**: 5 мая 2021 года, 09:58:13\n",
    "- **Краткое описание**: С помощью cv2 напишем распознавальщик геометрических фигур.\n",
    "- **Полезные ссылки**:\n",
    "    - [Contours shape recognition](https://github.com/PacktPublishing/Mastering-OpenCV-4-with-Python/blob/master/Chapter08/01-chapter-content/contours_shape_recognition.py)\n",
    "    - [Contours matching](https://github.com/PacktPublishing/Mastering-OpenCV-4-with-Python/blob/master/Chapter08/01-chapter-content/contours_matching.py)\n",
    "    - []()\n",
    "- **Выводы**:"
   ]
  },
  {
   "cell_type": "code",
   "execution_count": 9,
   "id": "205fd802-0274-4528-b6f8-edbb711d5957",
   "metadata": {},
   "outputs": [],
   "source": [
    "import cv2\n",
    "import numpy as np\n",
    "\n",
    "from nptyping import NDArray\n",
    "from pydantic import BaseModel, PositiveInt, validator\n",
    "from typing import Any, Dict, List, Tuple, Union \n",
    "\n",
    "from IPython.display import clear_output"
   ]
  },
  {
   "cell_type": "markdown",
   "id": "bf53afcf-1484-42c5-abe0-5aa3bcade6b5",
   "metadata": {},
   "source": [
    "### Константы "
   ]
  },
  {
   "cell_type": "code",
   "execution_count": 2,
   "id": "89f98106-122f-4fd6-964a-65d51e853f09",
   "metadata": {},
   "outputs": [],
   "source": [
    "IMAGE_H = 500\n",
    "IMAGE_W = 500"
   ]
  },
  {
   "cell_type": "markdown",
   "id": "3e11b548-b059-4809-9214-486c11213d66",
   "metadata": {},
   "source": [
    "### Shape generator"
   ]
  },
  {
   "cell_type": "code",
   "execution_count": 3,
   "id": "660fc439-a630-4e13-b9de-6055e044f244",
   "metadata": {},
   "outputs": [],
   "source": [
    "class Painter(BaseModel):\n",
    "    image_h: PositiveInt\n",
    "    image_w: PositiveInt\n",
    "        \n",
    "    @property\n",
    "    def imsize(self) -> NDArray[(2, ), np.uint32]:\n",
    "        return np.array([self.image_h, self.image_w], dtype=np.uint32)\n",
    "    \n",
    "    @property\n",
    "    def imshape(self) -> NDArray[(3, ), np.uint32]:\n",
    "        return np.array([self.image_h, self.image_w, 3], dtype=np.uint32)\n",
    "    \n",
    "    @property\n",
    "    def random_color(self) -> NDArray[(3, ), np.uint8]:\n",
    "        return np.random.randint(low=0, high=255, size=3, dtype=np.uint8).tolist()\n",
    "    \n",
    "    @property\n",
    "    def black_background(self) -> NDArray[(Any, Any, 3), np.uint8]:\n",
    "        return np.zeros(shape=self.imshape, dtype=np.uint8)\n",
    "    \n",
    "    def draw_random_square(self) -> NDArray[(Any, Any, 3), np.uint8]:\n",
    "        p1 = np.random.randint(low=0, high=self.imsize.min(), size=2)\n",
    "        p2 = p1 + np.random.randint(low=0, high=(self.imsize - p1).min())\n",
    "\n",
    "        return cv2.rectangle(self.black_background, tuple(p1), tuple(p2), self.random_color, -1)\n",
    "\n",
    "    def draw_random_circle(self) -> NDArray[(Any, Any, 3), np.uint8]:\n",
    "        radius = np.random.randint(low=0, high=self.imsize.min() // 2 - 1)\n",
    "        center = np.random.randint(low=0+radius, high=self.imsize.min()-radius, size=2)\n",
    "\n",
    "        return cv2.circle(self.black_background, tuple(center), radius, self.random_color, -1)\n",
    "    \n",
    "    def draw_random_shape(self) -> NDArray[(Any, Any, 3), np.uint8]:\n",
    "        return self.draw_random_circle() if np.random.rand() > 0.5 else self.draw_random_square()"
   ]
  },
  {
   "cell_type": "code",
   "execution_count": 4,
   "id": "0ba15b37-8b94-4fb6-8284-98145c023b1c",
   "metadata": {},
   "outputs": [],
   "source": [
    "painter = Painter(image_h=IMAGE_H, image_w=IMAGE_W)"
   ]
  },
  {
   "cell_type": "code",
   "execution_count": 5,
   "id": "058e1aab-5e04-470d-a933-e1132102f12b",
   "metadata": {},
   "outputs": [],
   "source": [
    "for i in range(5):\n",
    "    cv2.imshow('image', painter.draw_random_shape())\n",
    "    cv2.waitKey(3000)    \n",
    "cv2.destroyAllWindows()"
   ]
  },
  {
   "cell_type": "markdown",
   "id": "68cde7a3-1d4d-4a15-a728-5fa5fdcfeab6",
   "metadata": {},
   "source": [
    "### Shape recognition"
   ]
  },
  {
   "cell_type": "code",
   "execution_count": 6,
   "id": "d9904054-c4bd-446d-94da-5675707b1cb3",
   "metadata": {},
   "outputs": [],
   "source": [
    "def shape_recognizer(image: NDArray[(Any, Any, 3), np.uint8]) -> str:\n",
    "    image_gray = cv2.cvtColor(image, cv2.COLOR_BGR2GRAY)\n",
    "    _, image_thresh = cv2.threshold(image_gray, 10, 255, cv2.THRESH_BINARY)\n",
    "    image_contours, _ = cv2.findContours(image_thresh, cv2.RETR_EXTERNAL, cv2.CHAIN_APPROX_NONE)\n",
    "    \n",
    "    if len(image_contours) > 0:\n",
    "        contour = image_contours[0]\n",
    "    else:\n",
    "        return 'shape not found'\n",
    "    \n",
    "    perimeter = cv2.arcLength(contour, True)\n",
    "    contour_approx = cv2.approxPolyDP(contour, 0.03*perimeter, True)\n",
    "    num_vertices = len(contour_approx)\n",
    "\n",
    "    return {\n",
    "        num_vertices < 3: 'unknown',\n",
    "        num_vertices == 3: 'triangle',\n",
    "        num_vertices == 4: 'rectangle',\n",
    "        num_vertices == 5: 'pentagon',\n",
    "        num_vertices == 6: 'hexagon',\n",
    "        num_vertices > 6: 'circle',\n",
    "    }[True]"
   ]
  },
  {
   "cell_type": "code",
   "execution_count": 7,
   "id": "26d9e5b0-ac0e-4e75-a9a7-179d7eed970b",
   "metadata": {},
   "outputs": [],
   "source": [
    "painter = Painter(image_h=IMAGE_H, image_w=IMAGE_W)"
   ]
  },
  {
   "cell_type": "code",
   "execution_count": 8,
   "id": "91faf082-eb0f-462d-a8f1-1460f5b18336",
   "metadata": {},
   "outputs": [
    {
     "name": "stdout",
     "output_type": "stream",
     "text": [
      "rectangle\n"
     ]
    }
   ],
   "source": [
    "image = painter.draw_random_shape()\n",
    "\n",
    "while True:\n",
    "    image = painter.draw_random_shape()\n",
    "    print(shape_recognizer(image))\n",
    "    \n",
    "    cv2.imshow('image', image)\n",
    "    \n",
    "    if cv2.waitKey(3000) & 0xFF == ord('q'):\n",
    "        break\n",
    "        \n",
    "    clear_output(True)\n",
    "    \n",
    "cv2.destroyAllWindows()"
   ]
  }
 ],
 "metadata": {
  "kernelspec": {
   "display_name": "projects_01_cv2_shape_predictor",
   "language": "python",
   "name": "projects_01_cv2_shape_predictor"
  },
  "language_info": {
   "codemirror_mode": {
    "name": "ipython",
    "version": 3
   },
   "file_extension": ".py",
   "mimetype": "text/x-python",
   "name": "python",
   "nbconvert_exporter": "python",
   "pygments_lexer": "ipython3",
   "version": "3.8.5"
  }
 },
 "nbformat": 4,
 "nbformat_minor": 5
}
