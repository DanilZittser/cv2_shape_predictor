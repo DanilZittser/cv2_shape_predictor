{
 "cells": [
  {
   "cell_type": "markdown",
   "id": "dbee1e59-145c-4cc3-86ff-bfafb618e9b2",
   "metadata": {},
   "source": [
    "### Информация\n",
    "- **Автор**: Зитцер Данил\n",
    "- **Дата создания**: 9 мая 2021 года, 16:09:13\n",
    "- **Краткое описание**: Распознавание фигур с помощью API, упакованного в контейнер.\n",
    "- **Полезные ссылки**:\n",
    "    - [Using OpenCV in Docker](https://stackoverflow.com/questions/55313610/importerror-libgl-so-1-cannot-open-shared-object-file-no-such-file-or-directo)\n",
    "- **Выводы**:"
   ]
  },
  {
   "cell_type": "code",
   "execution_count": 1,
   "id": "d5104cd1-1e2e-4943-ae14-3d9ca23172d4",
   "metadata": {},
   "outputs": [],
   "source": [
    "import cv2\n",
    "import numpy as np\n",
    "import requests\n",
    "\n",
    "from nptyping import NDArray\n",
    "from pydantic import BaseModel, PositiveInt, validator\n",
    "from typing import Any, Dict, List, Tuple, Union \n",
    "\n",
    "from IPython.display import clear_output"
   ]
  },
  {
   "cell_type": "markdown",
   "id": "73cc4d4f-60e3-409a-890e-0dfd4c95acdb",
   "metadata": {},
   "source": [
    "### Constants"
   ]
  },
  {
   "cell_type": "code",
   "execution_count": 2,
   "id": "5be3de80-88a8-4c09-9e6f-51d1221c2cf4",
   "metadata": {},
   "outputs": [],
   "source": [
    "IMAGE_H = 500\n",
    "IMAGE_W = 500"
   ]
  },
  {
   "cell_type": "markdown",
   "id": "dce5c804-89a8-4734-b98a-773fefb1422f",
   "metadata": {},
   "source": [
    "### Shape generator"
   ]
  },
  {
   "cell_type": "code",
   "execution_count": 3,
   "id": "65c508a1-cd37-4746-93f8-8d8e03abb86f",
   "metadata": {},
   "outputs": [],
   "source": [
    "class Painter(BaseModel):\n",
    "    image_h: PositiveInt\n",
    "    image_w: PositiveInt\n",
    "        \n",
    "    @property\n",
    "    def imsize(self) -> NDArray[(2, ), np.uint32]:\n",
    "        return np.array([self.image_h, self.image_w], dtype=np.uint32)\n",
    "    \n",
    "    @property\n",
    "    def imshape(self) -> NDArray[(3, ), np.uint32]:\n",
    "        return np.array([self.image_h, self.image_w, 3], dtype=np.uint32)\n",
    "    \n",
    "    @property\n",
    "    def random_color(self) -> NDArray[(3, ), np.uint8]:\n",
    "        return np.random.randint(low=0, high=255, size=3, dtype=np.uint8).tolist()\n",
    "    \n",
    "    @property\n",
    "    def black_background(self) -> NDArray[(Any, Any, 3), np.uint8]:\n",
    "        return np.zeros(shape=self.imshape, dtype=np.uint8)\n",
    "    \n",
    "    def draw_random_square(self) -> NDArray[(Any, Any, 3), np.uint8]:\n",
    "        p1 = np.random.randint(low=0, high=self.imsize.min(), size=2)\n",
    "        p2 = p1 + np.random.randint(low=0, high=(self.imsize - p1).min())\n",
    "\n",
    "        return cv2.rectangle(self.black_background, tuple(p1), tuple(p2), self.random_color, -1)\n",
    "\n",
    "    def draw_random_circle(self) -> NDArray[(Any, Any, 3), np.uint8]:\n",
    "        radius = np.random.randint(low=0, high=self.imsize.min() // 2 - 1)\n",
    "        center = np.random.randint(low=0+radius, high=self.imsize.min()-radius, size=2)\n",
    "\n",
    "        return cv2.circle(self.black_background, tuple(center), radius, self.random_color, -1)\n",
    "    \n",
    "    def draw_random_shape(self) -> NDArray[(Any, Any, 3), np.uint8]:\n",
    "        return self.draw_random_circle() if np.random.rand() > 0.5 else self.draw_random_square()"
   ]
  },
  {
   "cell_type": "markdown",
   "id": "3006fb62-f930-4252-b64a-a2344a0fe527",
   "metadata": {},
   "source": [
    "### NPImage "
   ]
  },
  {
   "cell_type": "code",
   "execution_count": 4,
   "id": "ae56ff21-d685-48d6-92ca-00c75da32326",
   "metadata": {},
   "outputs": [],
   "source": [
    "class NPImage(BaseModel):\n",
    "    image: Union[List, np.ndarray]\n",
    "        \n",
    "    @validator('image')\n",
    "    def image_validator(cls, v):\n",
    "        if isinstance(v, list):\n",
    "            v = np.array(v, dtype=np.uint8)\n",
    "        if not isinstance(v, np.ndarray):\n",
    "            raise TypeError('must be a numpy.ndarray')\n",
    "        if v.dtype != np.uint8:\n",
    "            raise TypeError('numpy.ndarray must have dtype equal numpy.uint8')\n",
    "        if len(v.shape) != 3:\n",
    "            raise ValueError('numpy.ndarray must have 3 dimension')\n",
    "        if v.shape[2] != 3:\n",
    "            raise ValueError('numpy.ndarray must have 3 channels')\n",
    "        return v\n",
    "        \n",
    "    class Config:\n",
    "        arbitrary_types_allowed = True\n",
    "        \n",
    "        json_encoders = {\n",
    "            np.ndarray: lambda x: x.tolist()\n",
    "        }"
   ]
  },
  {
   "cell_type": "markdown",
   "id": "127ca2d1-02fd-4810-a363-0dde69620c6d",
   "metadata": {},
   "source": [
    "### Shape recognition by API "
   ]
  },
  {
   "cell_type": "code",
   "execution_count": 5,
   "id": "9b682b9e-e089-48bb-8ae0-87ac5293ad82",
   "metadata": {},
   "outputs": [],
   "source": [
    "SHAPE_RECOGNITION_API = 'http://127.0.0.1:5000/predictor/'"
   ]
  },
  {
   "cell_type": "code",
   "execution_count": 7,
   "id": "8907e373-2557-4b97-99db-be8b8b604a85",
   "metadata": {},
   "outputs": [
    {
     "name": "stdout",
     "output_type": "stream",
     "text": [
      "circle\n"
     ]
    }
   ],
   "source": [
    "painter = Painter(image_h=IMAGE_H, image_w=IMAGE_W)\n",
    "\n",
    "while True:\n",
    "    image = painter.draw_random_shape()\n",
    "    \n",
    "    response = requests.post(\n",
    "        url=SHAPE_RECOGNITION_API,\n",
    "        data=NPImage(image=image).json()\n",
    "    )\n",
    "    \n",
    "    if response.status_code == 200:\n",
    "    \n",
    "        print(response.json()['shape'])\n",
    "\n",
    "        cv2.imshow('image', image)\n",
    "\n",
    "        if cv2.waitKey(3000) & 0xFF == ord('q'):\n",
    "            break\n",
    "\n",
    "        clear_output(True)\n",
    "    \n",
    "cv2.destroyAllWindows()"
   ]
  }
 ],
 "metadata": {
  "kernelspec": {
   "display_name": "projects_01_cv2_shape_predictor",
   "language": "python",
   "name": "projects_01_cv2_shape_predictor"
  },
  "language_info": {
   "codemirror_mode": {
    "name": "ipython",
    "version": 3
   },
   "file_extension": ".py",
   "mimetype": "text/x-python",
   "name": "python",
   "nbconvert_exporter": "python",
   "pygments_lexer": "ipython3",
   "version": "3.8.5"
  }
 },
 "nbformat": 4,
 "nbformat_minor": 5
}
